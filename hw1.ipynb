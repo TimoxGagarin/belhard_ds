{
 "cells": [
  {
   "cell_type": "markdown",
   "id": "4bfc7b98-2b53-4849-9a98-2917f3e4015a",
   "metadata": {},
   "source": [
    "8.\tСоздать словарь с пятью парами «ключ-значение», где ключи - названия фруктов, а значения - их цвета. Вывести значения всех ключей."
   ]
  },
  {
   "cell_type": "code",
   "execution_count": 13,
   "id": "6e0874ca-8ed2-49d8-befa-999af71c9389",
   "metadata": {},
   "outputs": [
    {
     "name": "stdout",
     "output_type": "stream",
     "text": [
      "apple, banana, orange, lemon, avocado\n"
     ]
    }
   ],
   "source": [
    "fruits = {\n",
    "    'apple': 'red',\n",
    "    'banana': 'yellow',\n",
    "    'orange': 'orange',\n",
    "    'lemon': 'yellow',\n",
    "    'avocado': 'green',\n",
    "}\n",
    "\n",
    "print(', '.join([k for k, v in fruits.items()]))"
   ]
  },
  {
   "cell_type": "markdown",
   "id": "124d3212-19c2-46d2-8b1d-650057c63026",
   "metadata": {},
   "source": [
    "13.\tСоздать словарь, содержащий информацию о книге (автор, название, год издания), и вывести эту информацию на экран."
   ]
  },
  {
   "cell_type": "code",
   "execution_count": 14,
   "id": "6aef0c74-6e73-42a7-8c1c-531072bff2a3",
   "metadata": {},
   "outputs": [
    {
     "name": "stdout",
     "output_type": "stream",
     "text": [
      "name : Animal Farm\n",
      "author : George Orwell\n",
      "published_in : 1945\n"
     ]
    }
   ],
   "source": [
    "book = {\n",
    "    'name': 'Animal Farm',\n",
    "    'author': 'George Orwell',\n",
    "    'published_in': 1945,\n",
    "}\n",
    "\n",
    "print('\\n'.join([f'{k} : {v}' for k, v in book.items()]))"
   ]
  }
 ],
 "metadata": {
  "kernelspec": {
   "display_name": "Python 3 (ipykernel)",
   "language": "python",
   "name": "python3"
  },
  "language_info": {
   "codemirror_mode": {
    "name": "ipython",
    "version": 3
   },
   "file_extension": ".py",
   "mimetype": "text/x-python",
   "name": "python",
   "nbconvert_exporter": "python",
   "pygments_lexer": "ipython3",
   "version": "3.11.4"
  }
 },
 "nbformat": 4,
 "nbformat_minor": 5
}
