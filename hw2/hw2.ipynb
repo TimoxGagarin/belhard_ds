{
 "cells": [
  {
   "cell_type": "markdown",
   "id": "bb92ab49-51b3-446c-95f7-6558856d03bf",
   "metadata": {},
   "source": [
    "Загрузка необходимых библиотек"
   ]
  },
  {
   "cell_type": "code",
   "execution_count": 96,
   "id": "75b06058-2c7d-432a-9d54-4df194e111e1",
   "metadata": {},
   "outputs": [],
   "source": [
    "import pandas as pd\n",
    "import numpy as np\n",
    "import seaborn as sns\n",
    "import matplotlib.pyplot as plt\n",
    "from sklearn.model_selection import train_test_split\n",
    "from sklearn.preprocessing import StandardScaler\n",
    "from sklearn.linear_model import LogisticRegression\n",
    "from sklearn.ensemble import RandomForestClassifier\n",
    "from sklearn.decomposition import PCA\n",
    "from sklearn.metrics import classification_report, confusion_matrix, accuracy_score"
   ]
  },
  {
   "cell_type": "markdown",
   "id": "db13d61f-5bf6-4163-88c3-666dd450e350",
   "metadata": {},
   "source": [
    "Загрузка и подготовка данных"
   ]
  },
  {
   "cell_type": "code",
   "execution_count": 97,
   "id": "98bc4d17-9c90-44f9-a2af-98d2e1eaa498",
   "metadata": {},
   "outputs": [
    {
     "data": {
      "text/html": [
       "<div>\n",
       "<style scoped>\n",
       "    .dataframe tbody tr th:only-of-type {\n",
       "        vertical-align: middle;\n",
       "    }\n",
       "\n",
       "    .dataframe tbody tr th {\n",
       "        vertical-align: top;\n",
       "    }\n",
       "\n",
       "    .dataframe thead th {\n",
       "        text-align: right;\n",
       "    }\n",
       "</style>\n",
       "<table border=\"1\" class=\"dataframe\">\n",
       "  <thead>\n",
       "    <tr style=\"text-align: right;\">\n",
       "      <th></th>\n",
       "      <th>case</th>\n",
       "      <th>site</th>\n",
       "      <th>Pop</th>\n",
       "      <th>sex</th>\n",
       "      <th>age</th>\n",
       "      <th>hdlngth</th>\n",
       "      <th>skullw</th>\n",
       "      <th>totlngth</th>\n",
       "      <th>taill</th>\n",
       "      <th>footlgth</th>\n",
       "      <th>earconch</th>\n",
       "      <th>eye</th>\n",
       "      <th>chest</th>\n",
       "      <th>belly</th>\n",
       "    </tr>\n",
       "  </thead>\n",
       "  <tbody>\n",
       "    <tr>\n",
       "      <th>0</th>\n",
       "      <td>1</td>\n",
       "      <td>1</td>\n",
       "      <td>Vic</td>\n",
       "      <td>m</td>\n",
       "      <td>8.0</td>\n",
       "      <td>94.1</td>\n",
       "      <td>60.4</td>\n",
       "      <td>89.0</td>\n",
       "      <td>36.0</td>\n",
       "      <td>74.5</td>\n",
       "      <td>54.5</td>\n",
       "      <td>15.2</td>\n",
       "      <td>28.0</td>\n",
       "      <td>36.0</td>\n",
       "    </tr>\n",
       "    <tr>\n",
       "      <th>1</th>\n",
       "      <td>2</td>\n",
       "      <td>1</td>\n",
       "      <td>Vic</td>\n",
       "      <td>f</td>\n",
       "      <td>6.0</td>\n",
       "      <td>92.5</td>\n",
       "      <td>57.6</td>\n",
       "      <td>91.5</td>\n",
       "      <td>36.5</td>\n",
       "      <td>72.5</td>\n",
       "      <td>51.2</td>\n",
       "      <td>16.0</td>\n",
       "      <td>28.5</td>\n",
       "      <td>33.0</td>\n",
       "    </tr>\n",
       "    <tr>\n",
       "      <th>2</th>\n",
       "      <td>3</td>\n",
       "      <td>1</td>\n",
       "      <td>Vic</td>\n",
       "      <td>f</td>\n",
       "      <td>6.0</td>\n",
       "      <td>94.0</td>\n",
       "      <td>60.0</td>\n",
       "      <td>95.5</td>\n",
       "      <td>39.0</td>\n",
       "      <td>75.4</td>\n",
       "      <td>51.9</td>\n",
       "      <td>15.5</td>\n",
       "      <td>30.0</td>\n",
       "      <td>34.0</td>\n",
       "    </tr>\n",
       "    <tr>\n",
       "      <th>3</th>\n",
       "      <td>4</td>\n",
       "      <td>1</td>\n",
       "      <td>Vic</td>\n",
       "      <td>f</td>\n",
       "      <td>6.0</td>\n",
       "      <td>93.2</td>\n",
       "      <td>57.1</td>\n",
       "      <td>92.0</td>\n",
       "      <td>38.0</td>\n",
       "      <td>76.1</td>\n",
       "      <td>52.2</td>\n",
       "      <td>15.2</td>\n",
       "      <td>28.0</td>\n",
       "      <td>34.0</td>\n",
       "    </tr>\n",
       "    <tr>\n",
       "      <th>4</th>\n",
       "      <td>5</td>\n",
       "      <td>1</td>\n",
       "      <td>Vic</td>\n",
       "      <td>f</td>\n",
       "      <td>2.0</td>\n",
       "      <td>91.5</td>\n",
       "      <td>56.3</td>\n",
       "      <td>85.5</td>\n",
       "      <td>36.0</td>\n",
       "      <td>71.0</td>\n",
       "      <td>53.2</td>\n",
       "      <td>15.1</td>\n",
       "      <td>28.5</td>\n",
       "      <td>33.0</td>\n",
       "    </tr>\n",
       "  </tbody>\n",
       "</table>\n",
       "</div>"
      ],
      "text/plain": [
       "   case  site  Pop sex  age  hdlngth  skullw  totlngth  taill  footlgth  \\\n",
       "0     1     1  Vic   m  8.0     94.1    60.4      89.0   36.0      74.5   \n",
       "1     2     1  Vic   f  6.0     92.5    57.6      91.5   36.5      72.5   \n",
       "2     3     1  Vic   f  6.0     94.0    60.0      95.5   39.0      75.4   \n",
       "3     4     1  Vic   f  6.0     93.2    57.1      92.0   38.0      76.1   \n",
       "4     5     1  Vic   f  2.0     91.5    56.3      85.5   36.0      71.0   \n",
       "\n",
       "   earconch   eye  chest  belly  \n",
       "0      54.5  15.2   28.0   36.0  \n",
       "1      51.2  16.0   28.5   33.0  \n",
       "2      51.9  15.5   30.0   34.0  \n",
       "3      52.2  15.2   28.0   34.0  \n",
       "4      53.2  15.1   28.5   33.0  "
      ]
     },
     "execution_count": 97,
     "metadata": {},
     "output_type": "execute_result"
    }
   ],
   "source": [
    "df = pd.read_csv('possum.csv')\n",
    "df = df.dropna()\n",
    "df.head()"
   ]
  },
  {
   "cell_type": "code",
   "execution_count": 98,
   "id": "d4d60eef-aacb-4b4a-bd53-98ed33abcec9",
   "metadata": {},
   "outputs": [
    {
     "data": {
      "text/plain": [
       "case          int64\n",
       "site          int64\n",
       "Pop          object\n",
       "sex          object\n",
       "age         float64\n",
       "hdlngth     float64\n",
       "skullw      float64\n",
       "totlngth    float64\n",
       "taill       float64\n",
       "footlgth    float64\n",
       "earconch    float64\n",
       "eye         float64\n",
       "chest       float64\n",
       "belly       float64\n",
       "dtype: object"
      ]
     },
     "execution_count": 98,
     "metadata": {},
     "output_type": "execute_result"
    }
   ],
   "source": [
    "df.dtypes"
   ]
  },
  {
   "cell_type": "code",
   "execution_count": 99,
   "id": "ba0d6c96-12b8-4c86-8c37-6e8eebf5dc6f",
   "metadata": {},
   "outputs": [
    {
     "data": {
      "text/plain": [
       "sex\n",
       "m    59\n",
       "f    42\n",
       "Name: count, dtype: int64"
      ]
     },
     "execution_count": 99,
     "metadata": {},
     "output_type": "execute_result"
    }
   ],
   "source": [
    "df['sex'].value_counts()"
   ]
  },
  {
   "cell_type": "markdown",
   "id": "bcd59cad-0723-41cb-9134-cd68fc4f420f",
   "metadata": {},
   "source": [
    "Разделение данных на признаки и целевую переменную. Разделение на обучающую и тестовую выборки."
   ]
  },
  {
   "cell_type": "code",
   "execution_count": 100,
   "id": "e53733c9-7661-4888-84de-46dc30f1e197",
   "metadata": {},
   "outputs": [],
   "source": [
    "Y = df['sex']\n",
    "X = df.loc[:, (df.columns !='sex') & (df.columns !='Pop')] \n",
    "\n",
    "X_train, X_test, y_train, y_test = train_test_split(X, Y, test_size=0.3, random_state=42)"
   ]
  },
  {
   "cell_type": "markdown",
   "id": "26ef1368-76d2-4c05-a471-b7297b93e16a",
   "metadata": {},
   "source": [
    "Стандартизация данных"
   ]
  },
  {
   "cell_type": "code",
   "execution_count": 101,
   "id": "8f3129ef-046c-4d0d-b70a-3ccf42691b59",
   "metadata": {},
   "outputs": [],
   "source": [
    "scaler = StandardScaler()\n",
    "X_train_scaled = scaler.fit_transform(X_train)\n",
    "X_test_scaled = scaler.transform(X_test)"
   ]
  },
  {
   "cell_type": "markdown",
   "id": "e351b68b-9aa6-47be-9faf-3ce8a1ce1e06",
   "metadata": {},
   "source": [
    "Понижение размерности"
   ]
  },
  {
   "cell_type": "code",
   "execution_count": 102,
   "id": "610f4cd5-a27b-4dcf-9b58-696baff98d94",
   "metadata": {},
   "outputs": [
    {
     "data": {
      "text/plain": [
       "{0: (0.0, PCA(n_components=0)),\n",
       " 1: (0.3915418707080796, PCA(n_components=1)),\n",
       " 2: (0.6380370045668703, PCA(n_components=2)),\n",
       " 3: (0.7257213002817198, PCA(n_components=3)),\n",
       " 4: (0.800231176199247, PCA(n_components=4)),\n",
       " 5: (0.8597023204773573, PCA(n_components=5)),\n",
       " 6: (0.9030541842844486, PCA(n_components=6)),\n",
       " 7: (0.9384494139592252, PCA(n_components=7)),\n",
       " 8: (0.9608970568762618, PCA(n_components=8)),\n",
       " 9: (0.9780803605616347, PCA(n_components=9)),\n",
       " 10: (0.9894926473820839, PCA(n_components=10)),\n",
       " 11: (0.9982080882848396, PCA(n_components=11)),\n",
       " 12: (1.0000000000000002, PCA(n_components=12))}"
      ]
     },
     "execution_count": 102,
     "metadata": {},
     "output_type": "execute_result"
    }
   ],
   "source": [
    "nums = np.arange(df.shape[1]-1)\n",
    "var_ratio = dict()\n",
    "\n",
    "for num in nums:\n",
    "    pca = PCA(n_components=num)\n",
    "    pca.fit(X_train_scaled)\n",
    "    var_ratio[num] = (np.sum(pca.explained_variance_ratio_), pca)\n",
    "\n",
    "var_ratio"
   ]
  },
  {
   "cell_type": "code",
   "execution_count": 104,
   "id": "00fa6f52-0a2b-4cc4-b4b5-6186192e25a6",
   "metadata": {},
   "outputs": [],
   "source": [
    "X_train_scaled = pca.fit_transform(X_train_scaled)\n",
    "X_test_scaled = pca.transform(X_test_scaled)"
   ]
  },
  {
   "cell_type": "code",
   "execution_count": 105,
   "id": "f9ad8df0-0272-457c-9eff-54e874d5bda3",
   "metadata": {},
   "outputs": [
    {
     "name": "stdout",
     "output_type": "stream",
     "text": [
      "Accuracy of logistic regression: 0.7419354838709677\n",
      "              precision    recall  f1-score   support\n",
      "\n",
      "           f       0.65      0.85      0.73        13\n",
      "           m       0.86      0.67      0.75        18\n",
      "\n",
      "    accuracy                           0.74        31\n",
      "   macro avg       0.75      0.76      0.74        31\n",
      "weighted avg       0.77      0.74      0.74        31\n",
      "\n",
      "Accuracy of random forest: 0.6129032258064516\n",
      "              precision    recall  f1-score   support\n",
      "\n",
      "           f       0.55      0.46      0.50        13\n",
      "           m       0.65      0.72      0.68        18\n",
      "\n",
      "    accuracy                           0.61        31\n",
      "   macro avg       0.60      0.59      0.59        31\n",
      "weighted avg       0.61      0.61      0.61        31\n",
      "\n"
     ]
    }
   ],
   "source": [
    "# Создание и обучение моделей\n",
    "log_reg = LogisticRegression(penalty='l2')\n",
    "log_reg.fit(X_train_scaled, y_train)\n",
    "\n",
    "rf = RandomForestClassifier()\n",
    "rf.fit(X_train_scaled, y_train)\n",
    "\n",
    "# Предсказание на тестовых данных\n",
    "y_pred_log_reg = log_reg.predict(X_test_scaled)\n",
    "y_pred_rf = rf.predict(X_test_scaled)\n",
    "\n",
    "# Оценка моделей\n",
    "accuracy_log_reg = accuracy_score(y_test, y_pred_log_reg)\n",
    "accuracy_rf = accuracy_score(y_test, y_pred_rf)\n",
    "report_log_reg = classification_report(y_test, y_pred_log_reg)\n",
    "report_rf = classification_report(y_test, y_pred_rf)\n",
    "\n",
    "print(f\"Accuracy of logistic regression: {accuracy_log_reg}\")\n",
    "print(report_log_reg)\n",
    "print(f\"Accuracy of random forest: {accuracy_rf}\")\n",
    "print(report_rf)"
   ]
  }
 ],
 "metadata": {
  "kernelspec": {
   "display_name": "Python 3 (ipykernel)",
   "language": "python",
   "name": "python3"
  },
  "language_info": {
   "codemirror_mode": {
    "name": "ipython",
    "version": 3
   },
   "file_extension": ".py",
   "mimetype": "text/x-python",
   "name": "python",
   "nbconvert_exporter": "python",
   "pygments_lexer": "ipython3",
   "version": "3.10.12"
  }
 },
 "nbformat": 4,
 "nbformat_minor": 5
}
